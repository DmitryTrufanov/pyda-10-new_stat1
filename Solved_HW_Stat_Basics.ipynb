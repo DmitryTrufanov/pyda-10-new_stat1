{
 "cells": [
  {
   "cell_type": "markdown",
   "metadata": {},
   "source": [
    "# Домашнее задание к лекции \"Базовые понятия статистики\""
   ]
  },
  {
   "cell_type": "markdown",
   "metadata": {},
   "source": [
    "**Обязательная часть**"
   ]
  },
  {
   "cell_type": "markdown",
   "metadata": {},
   "source": [
    "Будем осуществлять работу с непростым набором данных о состоянии здоровья лошадей, испытывающих кишечные колики."
   ]
  },
  {
   "cell_type": "markdown",
   "metadata": {},
   "source": [
    "# Задание 1. Базовое изучение"
   ]
  },
  {
   "cell_type": "markdown",
   "metadata": {},
   "source": [
    "Изучить представленный набор данных на основе описания его столбцов и выбрать 8 столбцов для дальнейшего изучения (среди них должны быть как числовые, так и категориальные). \n",
    "Провести расчет базовых метрик для них, кратко описать результаты."
   ]
  },
  {
   "cell_type": "code",
   "execution_count": 1,
   "metadata": {},
   "outputs": [],
   "source": [
    "import pandas as pd\n",
    "import numpy as np"
   ]
  },
  {
   "cell_type": "code",
   "execution_count": 2,
   "metadata": {},
   "outputs": [
    {
     "data": {
      "text/html": [
       "<div>\n",
       "<style scoped>\n",
       "    .dataframe tbody tr th:only-of-type {\n",
       "        vertical-align: middle;\n",
       "    }\n",
       "\n",
       "    .dataframe tbody tr th {\n",
       "        vertical-align: top;\n",
       "    }\n",
       "\n",
       "    .dataframe thead th {\n",
       "        text-align: right;\n",
       "    }\n",
       "</style>\n",
       "<table border=\"1\" class=\"dataframe\">\n",
       "  <thead>\n",
       "    <tr style=\"text-align: right;\">\n",
       "      <th></th>\n",
       "      <th>1.surgery</th>\n",
       "      <th>2.Age</th>\n",
       "      <th>3.Hospital Number</th>\n",
       "      <th>4.rectal temperature</th>\n",
       "      <th>5.pulse</th>\n",
       "      <th>6.respiratory rate</th>\n",
       "      <th>7.temperature of extremities</th>\n",
       "      <th>8.peripheral pulse</th>\n",
       "      <th>9.mucous membranes</th>\n",
       "      <th>10.capillary refill time</th>\n",
       "      <th>...</th>\n",
       "      <th>19.packed cell volume</th>\n",
       "      <th>20.total protein</th>\n",
       "      <th>21.abdominocentesis appearance</th>\n",
       "      <th>22.abdomcentesis total protein</th>\n",
       "      <th>23.outcome</th>\n",
       "      <th>24.surgical lesion?</th>\n",
       "      <th>25.type of lesion-1</th>\n",
       "      <th>26.type of lesion-2</th>\n",
       "      <th>27.type of lesion-3</th>\n",
       "      <th>28.cp_data</th>\n",
       "    </tr>\n",
       "  </thead>\n",
       "  <tbody>\n",
       "    <tr>\n",
       "      <th>0</th>\n",
       "      <td>2</td>\n",
       "      <td>1</td>\n",
       "      <td>530101</td>\n",
       "      <td>38.50</td>\n",
       "      <td>66</td>\n",
       "      <td>28</td>\n",
       "      <td>3</td>\n",
       "      <td>3</td>\n",
       "      <td>?</td>\n",
       "      <td>2</td>\n",
       "      <td>...</td>\n",
       "      <td>45.00</td>\n",
       "      <td>8.40</td>\n",
       "      <td>?</td>\n",
       "      <td>?</td>\n",
       "      <td>2</td>\n",
       "      <td>2</td>\n",
       "      <td>11300</td>\n",
       "      <td>0</td>\n",
       "      <td>0</td>\n",
       "      <td>2</td>\n",
       "    </tr>\n",
       "    <tr>\n",
       "      <th>1</th>\n",
       "      <td>1</td>\n",
       "      <td>1</td>\n",
       "      <td>534817</td>\n",
       "      <td>39.2</td>\n",
       "      <td>88</td>\n",
       "      <td>20</td>\n",
       "      <td>?</td>\n",
       "      <td>?</td>\n",
       "      <td>4</td>\n",
       "      <td>1</td>\n",
       "      <td>...</td>\n",
       "      <td>50</td>\n",
       "      <td>85</td>\n",
       "      <td>2</td>\n",
       "      <td>2</td>\n",
       "      <td>3</td>\n",
       "      <td>2</td>\n",
       "      <td>2208</td>\n",
       "      <td>0</td>\n",
       "      <td>0</td>\n",
       "      <td>2</td>\n",
       "    </tr>\n",
       "    <tr>\n",
       "      <th>2</th>\n",
       "      <td>2</td>\n",
       "      <td>1</td>\n",
       "      <td>530334</td>\n",
       "      <td>38.30</td>\n",
       "      <td>40</td>\n",
       "      <td>24</td>\n",
       "      <td>1</td>\n",
       "      <td>1</td>\n",
       "      <td>3</td>\n",
       "      <td>1</td>\n",
       "      <td>...</td>\n",
       "      <td>33.00</td>\n",
       "      <td>6.70</td>\n",
       "      <td>?</td>\n",
       "      <td>?</td>\n",
       "      <td>1</td>\n",
       "      <td>2</td>\n",
       "      <td>0</td>\n",
       "      <td>0</td>\n",
       "      <td>0</td>\n",
       "      <td>1</td>\n",
       "    </tr>\n",
       "    <tr>\n",
       "      <th>3</th>\n",
       "      <td>1</td>\n",
       "      <td>9</td>\n",
       "      <td>5290409</td>\n",
       "      <td>39.10</td>\n",
       "      <td>164</td>\n",
       "      <td>84</td>\n",
       "      <td>4</td>\n",
       "      <td>1</td>\n",
       "      <td>6</td>\n",
       "      <td>2</td>\n",
       "      <td>...</td>\n",
       "      <td>48.00</td>\n",
       "      <td>7.20</td>\n",
       "      <td>3</td>\n",
       "      <td>5.30</td>\n",
       "      <td>2</td>\n",
       "      <td>1</td>\n",
       "      <td>2208</td>\n",
       "      <td>0</td>\n",
       "      <td>0</td>\n",
       "      <td>1</td>\n",
       "    </tr>\n",
       "    <tr>\n",
       "      <th>4</th>\n",
       "      <td>2</td>\n",
       "      <td>1</td>\n",
       "      <td>530255</td>\n",
       "      <td>37.30</td>\n",
       "      <td>104</td>\n",
       "      <td>35</td>\n",
       "      <td>?</td>\n",
       "      <td>?</td>\n",
       "      <td>6</td>\n",
       "      <td>2</td>\n",
       "      <td>...</td>\n",
       "      <td>74.00</td>\n",
       "      <td>7.40</td>\n",
       "      <td>?</td>\n",
       "      <td>?</td>\n",
       "      <td>2</td>\n",
       "      <td>2</td>\n",
       "      <td>4300</td>\n",
       "      <td>0</td>\n",
       "      <td>0</td>\n",
       "      <td>2</td>\n",
       "    </tr>\n",
       "  </tbody>\n",
       "</table>\n",
       "<p>5 rows × 28 columns</p>\n",
       "</div>"
      ],
      "text/plain": [
       "  1.surgery  2.Age  3.Hospital Number 4.rectal temperature 5.pulse  \\\n",
       "0         2      1             530101                38.50      66   \n",
       "1         1      1             534817                 39.2      88   \n",
       "2         2      1             530334                38.30      40   \n",
       "3         1      9            5290409                39.10     164   \n",
       "4         2      1             530255                37.30     104   \n",
       "\n",
       "  6.respiratory rate 7.temperature of extremities 8.peripheral pulse  \\\n",
       "0                 28                            3                  3   \n",
       "1                 20                            ?                  ?   \n",
       "2                 24                            1                  1   \n",
       "3                 84                            4                  1   \n",
       "4                 35                            ?                  ?   \n",
       "\n",
       "  9.mucous membranes 10.capillary refill time  ... 19.packed cell volume  \\\n",
       "0                  ?                        2  ...                 45.00   \n",
       "1                  4                        1  ...                    50   \n",
       "2                  3                        1  ...                 33.00   \n",
       "3                  6                        2  ...                 48.00   \n",
       "4                  6                        2  ...                 74.00   \n",
       "\n",
       "  20.total protein 21.abdominocentesis appearance  \\\n",
       "0             8.40                              ?   \n",
       "1               85                              2   \n",
       "2             6.70                              ?   \n",
       "3             7.20                              3   \n",
       "4             7.40                              ?   \n",
       "\n",
       "  22.abdomcentesis total protein 23.outcome 24.surgical lesion?  \\\n",
       "0                              ?          2                   2   \n",
       "1                              2          3                   2   \n",
       "2                              ?          1                   2   \n",
       "3                           5.30          2                   1   \n",
       "4                              ?          2                   2   \n",
       "\n",
       "  25.type of lesion-1 26.type of lesion-2 27.type of lesion-3 28.cp_data  \n",
       "0               11300                   0                   0          2  \n",
       "1                2208                   0                   0          2  \n",
       "2                   0                   0                   0          1  \n",
       "3                2208                   0                   0          1  \n",
       "4                4300                   0                   0          2  \n",
       "\n",
       "[5 rows x 28 columns]"
      ]
     },
     "execution_count": 2,
     "metadata": {},
     "output_type": "execute_result"
    }
   ],
   "source": [
    "df = pd.read_csv('horse_data.csv',\n",
    "                names=['1.surgery', '2.Age', '3.Hospital Number', '4.rectal temperature', '5.pulse', '6.respiratory rate', '7.temperature of extremities', '8.peripheral pulse', '9.mucous membranes', '10.capillary refill time', '11.pain', '12.peristalsis', '13.abdominal distension', '14.nasogastric tube', '15.nasogastric reflux', '16.nasogastric reflux PH', '17.rectal examination', '18.abdomen', '19.packed cell volume', '20.total protein', '21.abdominocentesis appearance', '22.abdomcentesis total protein', '23.outcome', '24.surgical lesion?', '25.type of lesion-1', '26.type of lesion-2', '27.type of lesion-3', '28.cp_data'])\n",
    "df.head()"
   ]
  },
  {
   "cell_type": "code",
   "execution_count": 3,
   "metadata": {},
   "outputs": [
    {
     "name": "stdout",
     "output_type": "stream",
     "text": [
      "<class 'pandas.core.frame.DataFrame'>\n",
      "RangeIndex: 300 entries, 0 to 299\n",
      "Data columns (total 28 columns):\n",
      " #   Column                          Non-Null Count  Dtype \n",
      "---  ------                          --------------  ----- \n",
      " 0   1.surgery                       300 non-null    object\n",
      " 1   2.Age                           300 non-null    int64 \n",
      " 2   3.Hospital Number               300 non-null    int64 \n",
      " 3   4.rectal temperature            300 non-null    object\n",
      " 4   5.pulse                         300 non-null    object\n",
      " 5   6.respiratory rate              300 non-null    object\n",
      " 6   7.temperature of extremities    300 non-null    object\n",
      " 7   8.peripheral pulse              300 non-null    object\n",
      " 8   9.mucous membranes              300 non-null    object\n",
      " 9   10.capillary refill time        300 non-null    object\n",
      " 10  11.pain                         300 non-null    object\n",
      " 11  12.peristalsis                  300 non-null    object\n",
      " 12  13.abdominal distension         300 non-null    object\n",
      " 13  14.nasogastric tube             300 non-null    object\n",
      " 14  15.nasogastric reflux           300 non-null    object\n",
      " 15  16.nasogastric reflux PH        300 non-null    object\n",
      " 16  17.rectal examination           300 non-null    object\n",
      " 17  18.abdomen                      300 non-null    object\n",
      " 18  19.packed cell volume           300 non-null    object\n",
      " 19  20.total protein                300 non-null    object\n",
      " 20  21.abdominocentesis appearance  300 non-null    object\n",
      " 21  22.abdomcentesis total protein  300 non-null    object\n",
      " 22  23.outcome                      300 non-null    object\n",
      " 23  24.surgical lesion?             300 non-null    int64 \n",
      " 24  25.type of lesion-1             300 non-null    int64 \n",
      " 25  26.type of lesion-2             300 non-null    int64 \n",
      " 26  27.type of lesion-3             300 non-null    int64 \n",
      " 27  28.cp_data                      300 non-null    int64 \n",
      "dtypes: int64(7), object(21)\n",
      "memory usage: 65.8+ KB\n"
     ]
    }
   ],
   "source": [
    "df.info()"
   ]
  },
  {
   "cell_type": "code",
   "execution_count": 4,
   "metadata": {},
   "outputs": [
    {
     "data": {
      "text/html": [
       "<div>\n",
       "<style scoped>\n",
       "    .dataframe tbody tr th:only-of-type {\n",
       "        vertical-align: middle;\n",
       "    }\n",
       "\n",
       "    .dataframe tbody tr th {\n",
       "        vertical-align: top;\n",
       "    }\n",
       "\n",
       "    .dataframe thead th {\n",
       "        text-align: right;\n",
       "    }\n",
       "</style>\n",
       "<table border=\"1\" class=\"dataframe\">\n",
       "  <thead>\n",
       "    <tr style=\"text-align: right;\">\n",
       "      <th></th>\n",
       "      <th>2.Age</th>\n",
       "      <th>3.Hospital Number</th>\n",
       "      <th>24.surgical lesion?</th>\n",
       "      <th>25.type of lesion-1</th>\n",
       "      <th>26.type of lesion-2</th>\n",
       "      <th>27.type of lesion-3</th>\n",
       "      <th>28.cp_data</th>\n",
       "    </tr>\n",
       "  </thead>\n",
       "  <tbody>\n",
       "    <tr>\n",
       "      <th>count</th>\n",
       "      <td>300.000000</td>\n",
       "      <td>3.000000e+02</td>\n",
       "      <td>300.000000</td>\n",
       "      <td>300.000000</td>\n",
       "      <td>300.000000</td>\n",
       "      <td>300.000000</td>\n",
       "      <td>300.000000</td>\n",
       "    </tr>\n",
       "    <tr>\n",
       "      <th>mean</th>\n",
       "      <td>1.640000</td>\n",
       "      <td>1.085889e+06</td>\n",
       "      <td>1.363333</td>\n",
       "      <td>3657.880000</td>\n",
       "      <td>90.226667</td>\n",
       "      <td>7.363333</td>\n",
       "      <td>1.670000</td>\n",
       "    </tr>\n",
       "    <tr>\n",
       "      <th>std</th>\n",
       "      <td>2.173972</td>\n",
       "      <td>1.529801e+06</td>\n",
       "      <td>0.481763</td>\n",
       "      <td>5399.513513</td>\n",
       "      <td>649.569234</td>\n",
       "      <td>127.536674</td>\n",
       "      <td>0.470998</td>\n",
       "    </tr>\n",
       "    <tr>\n",
       "      <th>min</th>\n",
       "      <td>1.000000</td>\n",
       "      <td>5.184760e+05</td>\n",
       "      <td>1.000000</td>\n",
       "      <td>0.000000</td>\n",
       "      <td>0.000000</td>\n",
       "      <td>0.000000</td>\n",
       "      <td>1.000000</td>\n",
       "    </tr>\n",
       "    <tr>\n",
       "      <th>25%</th>\n",
       "      <td>1.000000</td>\n",
       "      <td>5.289040e+05</td>\n",
       "      <td>1.000000</td>\n",
       "      <td>2111.750000</td>\n",
       "      <td>0.000000</td>\n",
       "      <td>0.000000</td>\n",
       "      <td>1.000000</td>\n",
       "    </tr>\n",
       "    <tr>\n",
       "      <th>50%</th>\n",
       "      <td>1.000000</td>\n",
       "      <td>5.303055e+05</td>\n",
       "      <td>1.000000</td>\n",
       "      <td>2673.500000</td>\n",
       "      <td>0.000000</td>\n",
       "      <td>0.000000</td>\n",
       "      <td>2.000000</td>\n",
       "    </tr>\n",
       "    <tr>\n",
       "      <th>75%</th>\n",
       "      <td>1.000000</td>\n",
       "      <td>5.347275e+05</td>\n",
       "      <td>2.000000</td>\n",
       "      <td>3209.000000</td>\n",
       "      <td>0.000000</td>\n",
       "      <td>0.000000</td>\n",
       "      <td>2.000000</td>\n",
       "    </tr>\n",
       "    <tr>\n",
       "      <th>max</th>\n",
       "      <td>9.000000</td>\n",
       "      <td>5.305629e+06</td>\n",
       "      <td>2.000000</td>\n",
       "      <td>41110.000000</td>\n",
       "      <td>7111.000000</td>\n",
       "      <td>2209.000000</td>\n",
       "      <td>2.000000</td>\n",
       "    </tr>\n",
       "  </tbody>\n",
       "</table>\n",
       "</div>"
      ],
      "text/plain": [
       "            2.Age  3.Hospital Number  24.surgical lesion?  \\\n",
       "count  300.000000       3.000000e+02           300.000000   \n",
       "mean     1.640000       1.085889e+06             1.363333   \n",
       "std      2.173972       1.529801e+06             0.481763   \n",
       "min      1.000000       5.184760e+05             1.000000   \n",
       "25%      1.000000       5.289040e+05             1.000000   \n",
       "50%      1.000000       5.303055e+05             1.000000   \n",
       "75%      1.000000       5.347275e+05             2.000000   \n",
       "max      9.000000       5.305629e+06             2.000000   \n",
       "\n",
       "       25.type of lesion-1  26.type of lesion-2  27.type of lesion-3  \\\n",
       "count           300.000000           300.000000           300.000000   \n",
       "mean           3657.880000            90.226667             7.363333   \n",
       "std            5399.513513           649.569234           127.536674   \n",
       "min               0.000000             0.000000             0.000000   \n",
       "25%            2111.750000             0.000000             0.000000   \n",
       "50%            2673.500000             0.000000             0.000000   \n",
       "75%            3209.000000             0.000000             0.000000   \n",
       "max           41110.000000          7111.000000          2209.000000   \n",
       "\n",
       "       28.cp_data  \n",
       "count  300.000000  \n",
       "mean     1.670000  \n",
       "std      0.470998  \n",
       "min      1.000000  \n",
       "25%      1.000000  \n",
       "50%      2.000000  \n",
       "75%      2.000000  \n",
       "max      2.000000  "
      ]
     },
     "execution_count": 4,
     "metadata": {},
     "output_type": "execute_result"
    }
   ],
   "source": [
    "df.describe()"
   ]
  },
  {
   "cell_type": "markdown",
   "metadata": {},
   "source": [
    "Во многих столбцах попадаются пропуски. Пропуски обозначены \"?\", что мешает провести первичный анализ датасета.\n",
    "Заменим \"?\" на NaN."
   ]
  },
  {
   "cell_type": "code",
   "execution_count": 5,
   "metadata": {},
   "outputs": [],
   "source": [
    "df_nan = df.replace('?', np.nan)"
   ]
  },
  {
   "cell_type": "code",
   "execution_count": 6,
   "metadata": {},
   "outputs": [],
   "source": [
    "df_nan = df_nan.apply(pd.to_numeric)"
   ]
  },
  {
   "cell_type": "code",
   "execution_count": 7,
   "metadata": {},
   "outputs": [
    {
     "name": "stdout",
     "output_type": "stream",
     "text": [
      "<class 'pandas.core.frame.DataFrame'>\n",
      "RangeIndex: 300 entries, 0 to 299\n",
      "Data columns (total 28 columns):\n",
      " #   Column                          Non-Null Count  Dtype  \n",
      "---  ------                          --------------  -----  \n",
      " 0   1.surgery                       299 non-null    float64\n",
      " 1   2.Age                           300 non-null    int64  \n",
      " 2   3.Hospital Number               300 non-null    int64  \n",
      " 3   4.rectal temperature            240 non-null    float64\n",
      " 4   5.pulse                         276 non-null    float64\n",
      " 5   6.respiratory rate              242 non-null    float64\n",
      " 6   7.temperature of extremities    244 non-null    float64\n",
      " 7   8.peripheral pulse              231 non-null    float64\n",
      " 8   9.mucous membranes              253 non-null    float64\n",
      " 9   10.capillary refill time        268 non-null    float64\n",
      " 10  11.pain                         245 non-null    float64\n",
      " 11  12.peristalsis                  256 non-null    float64\n",
      " 12  13.abdominal distension         244 non-null    float64\n",
      " 13  14.nasogastric tube             196 non-null    float64\n",
      " 14  15.nasogastric reflux           194 non-null    float64\n",
      " 15  16.nasogastric reflux PH        53 non-null     float64\n",
      " 16  17.rectal examination           198 non-null    float64\n",
      " 17  18.abdomen                      182 non-null    float64\n",
      " 18  19.packed cell volume           271 non-null    float64\n",
      " 19  20.total protein                267 non-null    float64\n",
      " 20  21.abdominocentesis appearance  135 non-null    float64\n",
      " 21  22.abdomcentesis total protein  102 non-null    float64\n",
      " 22  23.outcome                      299 non-null    float64\n",
      " 23  24.surgical lesion?             300 non-null    int64  \n",
      " 24  25.type of lesion-1             300 non-null    int64  \n",
      " 25  26.type of lesion-2             300 non-null    int64  \n",
      " 26  27.type of lesion-3             300 non-null    int64  \n",
      " 27  28.cp_data                      300 non-null    int64  \n",
      "dtypes: float64(21), int64(7)\n",
      "memory usage: 65.8 KB\n"
     ]
    }
   ],
   "source": [
    "df_nan.info()"
   ]
  },
  {
   "cell_type": "code",
   "execution_count": 8,
   "metadata": {},
   "outputs": [
    {
     "data": {
      "text/html": [
       "<div>\n",
       "<style scoped>\n",
       "    .dataframe tbody tr th:only-of-type {\n",
       "        vertical-align: middle;\n",
       "    }\n",
       "\n",
       "    .dataframe tbody tr th {\n",
       "        vertical-align: top;\n",
       "    }\n",
       "\n",
       "    .dataframe thead th {\n",
       "        text-align: right;\n",
       "    }\n",
       "</style>\n",
       "<table border=\"1\" class=\"dataframe\">\n",
       "  <thead>\n",
       "    <tr style=\"text-align: right;\">\n",
       "      <th></th>\n",
       "      <th>1.surgery</th>\n",
       "      <th>2.Age</th>\n",
       "      <th>4.rectal temperature</th>\n",
       "      <th>5.pulse</th>\n",
       "      <th>7.temperature of extremities</th>\n",
       "      <th>8.peripheral pulse</th>\n",
       "      <th>9.mucous membranes</th>\n",
       "      <th>10.capillary refill time</th>\n",
       "    </tr>\n",
       "  </thead>\n",
       "  <tbody>\n",
       "    <tr>\n",
       "      <th>0</th>\n",
       "      <td>2.0</td>\n",
       "      <td>1</td>\n",
       "      <td>38.5</td>\n",
       "      <td>66.0</td>\n",
       "      <td>3.0</td>\n",
       "      <td>3.0</td>\n",
       "      <td>NaN</td>\n",
       "      <td>2.0</td>\n",
       "    </tr>\n",
       "    <tr>\n",
       "      <th>1</th>\n",
       "      <td>1.0</td>\n",
       "      <td>1</td>\n",
       "      <td>39.2</td>\n",
       "      <td>88.0</td>\n",
       "      <td>NaN</td>\n",
       "      <td>NaN</td>\n",
       "      <td>4.0</td>\n",
       "      <td>1.0</td>\n",
       "    </tr>\n",
       "    <tr>\n",
       "      <th>2</th>\n",
       "      <td>2.0</td>\n",
       "      <td>1</td>\n",
       "      <td>38.3</td>\n",
       "      <td>40.0</td>\n",
       "      <td>1.0</td>\n",
       "      <td>1.0</td>\n",
       "      <td>3.0</td>\n",
       "      <td>1.0</td>\n",
       "    </tr>\n",
       "    <tr>\n",
       "      <th>3</th>\n",
       "      <td>1.0</td>\n",
       "      <td>9</td>\n",
       "      <td>39.1</td>\n",
       "      <td>164.0</td>\n",
       "      <td>4.0</td>\n",
       "      <td>1.0</td>\n",
       "      <td>6.0</td>\n",
       "      <td>2.0</td>\n",
       "    </tr>\n",
       "    <tr>\n",
       "      <th>4</th>\n",
       "      <td>2.0</td>\n",
       "      <td>1</td>\n",
       "      <td>37.3</td>\n",
       "      <td>104.0</td>\n",
       "      <td>NaN</td>\n",
       "      <td>NaN</td>\n",
       "      <td>6.0</td>\n",
       "      <td>2.0</td>\n",
       "    </tr>\n",
       "  </tbody>\n",
       "</table>\n",
       "</div>"
      ],
      "text/plain": [
       "   1.surgery  2.Age  4.rectal temperature  5.pulse  \\\n",
       "0        2.0      1                  38.5     66.0   \n",
       "1        1.0      1                  39.2     88.0   \n",
       "2        2.0      1                  38.3     40.0   \n",
       "3        1.0      9                  39.1    164.0   \n",
       "4        2.0      1                  37.3    104.0   \n",
       "\n",
       "   7.temperature of extremities  8.peripheral pulse  9.mucous membranes  \\\n",
       "0                           3.0                 3.0                 NaN   \n",
       "1                           NaN                 NaN                 4.0   \n",
       "2                           1.0                 1.0                 3.0   \n",
       "3                           4.0                 1.0                 6.0   \n",
       "4                           NaN                 NaN                 6.0   \n",
       "\n",
       "   10.capillary refill time  \n",
       "0                       2.0  \n",
       "1                       1.0  \n",
       "2                       1.0  \n",
       "3                       2.0  \n",
       "4                       2.0  "
      ]
     },
     "execution_count": 8,
     "metadata": {},
     "output_type": "execute_result"
    }
   ],
   "source": [
    "df_nan1 = df_nan[['1.surgery', '2.Age', '4.rectal temperature', '5.pulse', '7.temperature of extremities', '8.peripheral pulse', '9.mucous membranes', '10.capillary refill time']]\n",
    "df_nan1.head()"
   ]
  },
  {
   "cell_type": "code",
   "execution_count": 9,
   "metadata": {},
   "outputs": [
    {
     "data": {
      "text/html": [
       "<div>\n",
       "<style scoped>\n",
       "    .dataframe tbody tr th:only-of-type {\n",
       "        vertical-align: middle;\n",
       "    }\n",
       "\n",
       "    .dataframe tbody tr th {\n",
       "        vertical-align: top;\n",
       "    }\n",
       "\n",
       "    .dataframe thead th {\n",
       "        text-align: right;\n",
       "    }\n",
       "</style>\n",
       "<table border=\"1\" class=\"dataframe\">\n",
       "  <thead>\n",
       "    <tr style=\"text-align: right;\">\n",
       "      <th></th>\n",
       "      <th>1.surgery</th>\n",
       "      <th>2.Age</th>\n",
       "      <th>4.rectal temperature</th>\n",
       "      <th>5.pulse</th>\n",
       "      <th>7.temperature of extremities</th>\n",
       "      <th>8.peripheral pulse</th>\n",
       "      <th>9.mucous membranes</th>\n",
       "      <th>10.capillary refill time</th>\n",
       "    </tr>\n",
       "  </thead>\n",
       "  <tbody>\n",
       "    <tr>\n",
       "      <th>count</th>\n",
       "      <td>299.000000</td>\n",
       "      <td>300.000000</td>\n",
       "      <td>240.000000</td>\n",
       "      <td>276.000000</td>\n",
       "      <td>244.000000</td>\n",
       "      <td>231.000000</td>\n",
       "      <td>253.000000</td>\n",
       "      <td>268.000000</td>\n",
       "    </tr>\n",
       "    <tr>\n",
       "      <th>mean</th>\n",
       "      <td>1.397993</td>\n",
       "      <td>1.640000</td>\n",
       "      <td>38.167917</td>\n",
       "      <td>71.913043</td>\n",
       "      <td>2.348361</td>\n",
       "      <td>2.017316</td>\n",
       "      <td>2.853755</td>\n",
       "      <td>1.305970</td>\n",
       "    </tr>\n",
       "    <tr>\n",
       "      <th>std</th>\n",
       "      <td>0.490305</td>\n",
       "      <td>2.173972</td>\n",
       "      <td>0.732289</td>\n",
       "      <td>28.630557</td>\n",
       "      <td>1.045054</td>\n",
       "      <td>1.042428</td>\n",
       "      <td>1.620294</td>\n",
       "      <td>0.477629</td>\n",
       "    </tr>\n",
       "    <tr>\n",
       "      <th>min</th>\n",
       "      <td>1.000000</td>\n",
       "      <td>1.000000</td>\n",
       "      <td>35.400000</td>\n",
       "      <td>30.000000</td>\n",
       "      <td>1.000000</td>\n",
       "      <td>1.000000</td>\n",
       "      <td>1.000000</td>\n",
       "      <td>1.000000</td>\n",
       "    </tr>\n",
       "    <tr>\n",
       "      <th>25%</th>\n",
       "      <td>1.000000</td>\n",
       "      <td>1.000000</td>\n",
       "      <td>37.800000</td>\n",
       "      <td>48.000000</td>\n",
       "      <td>1.000000</td>\n",
       "      <td>1.000000</td>\n",
       "      <td>1.000000</td>\n",
       "      <td>1.000000</td>\n",
       "    </tr>\n",
       "    <tr>\n",
       "      <th>50%</th>\n",
       "      <td>1.000000</td>\n",
       "      <td>1.000000</td>\n",
       "      <td>38.200000</td>\n",
       "      <td>64.000000</td>\n",
       "      <td>3.000000</td>\n",
       "      <td>2.000000</td>\n",
       "      <td>3.000000</td>\n",
       "      <td>1.000000</td>\n",
       "    </tr>\n",
       "    <tr>\n",
       "      <th>75%</th>\n",
       "      <td>2.000000</td>\n",
       "      <td>1.000000</td>\n",
       "      <td>38.500000</td>\n",
       "      <td>88.000000</td>\n",
       "      <td>3.000000</td>\n",
       "      <td>3.000000</td>\n",
       "      <td>4.000000</td>\n",
       "      <td>2.000000</td>\n",
       "    </tr>\n",
       "    <tr>\n",
       "      <th>max</th>\n",
       "      <td>2.000000</td>\n",
       "      <td>9.000000</td>\n",
       "      <td>40.800000</td>\n",
       "      <td>184.000000</td>\n",
       "      <td>4.000000</td>\n",
       "      <td>4.000000</td>\n",
       "      <td>6.000000</td>\n",
       "      <td>3.000000</td>\n",
       "    </tr>\n",
       "  </tbody>\n",
       "</table>\n",
       "</div>"
      ],
      "text/plain": [
       "        1.surgery       2.Age  4.rectal temperature     5.pulse  \\\n",
       "count  299.000000  300.000000            240.000000  276.000000   \n",
       "mean     1.397993    1.640000             38.167917   71.913043   \n",
       "std      0.490305    2.173972              0.732289   28.630557   \n",
       "min      1.000000    1.000000             35.400000   30.000000   \n",
       "25%      1.000000    1.000000             37.800000   48.000000   \n",
       "50%      1.000000    1.000000             38.200000   64.000000   \n",
       "75%      2.000000    1.000000             38.500000   88.000000   \n",
       "max      2.000000    9.000000             40.800000  184.000000   \n",
       "\n",
       "       7.temperature of extremities  8.peripheral pulse  9.mucous membranes  \\\n",
       "count                    244.000000          231.000000          253.000000   \n",
       "mean                       2.348361            2.017316            2.853755   \n",
       "std                        1.045054            1.042428            1.620294   \n",
       "min                        1.000000            1.000000            1.000000   \n",
       "25%                        1.000000            1.000000            1.000000   \n",
       "50%                        3.000000            2.000000            3.000000   \n",
       "75%                        3.000000            3.000000            4.000000   \n",
       "max                        4.000000            4.000000            6.000000   \n",
       "\n",
       "       10.capillary refill time  \n",
       "count                268.000000  \n",
       "mean                   1.305970  \n",
       "std                    0.477629  \n",
       "min                    1.000000  \n",
       "25%                    1.000000  \n",
       "50%                    1.000000  \n",
       "75%                    2.000000  \n",
       "max                    3.000000  "
      ]
     },
     "execution_count": 9,
     "metadata": {},
     "output_type": "execute_result"
    }
   ],
   "source": [
    "df_nan1.describe()"
   ]
  },
  {
   "cell_type": "code",
   "execution_count": 10,
   "metadata": {},
   "outputs": [
    {
     "name": "stdout",
     "output_type": "stream",
     "text": [
      "2.Age                    1.0\n",
      "4.rectal temperature    38.2\n",
      "5.pulse                 64.0\n",
      "dtype: float64\n"
     ]
    }
   ],
   "source": [
    "#дискретные величины. Остальные данные - категории.\n",
    "print(df_nan1[['2.Age', '4.rectal temperature', '5.pulse']].median())"
   ]
  },
  {
   "cell_type": "markdown",
   "metadata": {},
   "source": [
    "**В выбранных столбцах обнаружено:  \n",
    "    5.пульс - скорее всего имеются выбросы, максимальный пульс 184, при нормальном 30-40. Медиана 64, 75% выборки менее 88.   \n",
    "    10.время пополнения капилляров - по условию может быть либо 1, либо 2. В данных опечатка - максимальное значение 3.**"
   ]
  },
  {
   "cell_type": "code",
   "execution_count": null,
   "metadata": {},
   "outputs": [],
   "source": []
  },
  {
   "cell_type": "markdown",
   "metadata": {},
   "source": [
    "# Задание 2. Работа с выбросами"
   ]
  },
  {
   "cell_type": "markdown",
   "metadata": {},
   "source": [
    "В выбранных числовых столбцах найти выбросы, выдвинуть гипотезы об их причинах и проинтерпретировать результаты. Принять и обосновать решение о дальнейшей работе с ними."
   ]
  },
  {
   "cell_type": "markdown",
   "metadata": {},
   "source": [
    "***Построим boxplot распределения***"
   ]
  },
  {
   "cell_type": "code",
   "execution_count": 11,
   "metadata": {},
   "outputs": [
    {
     "data": {
      "text/plain": [
       "<matplotlib.axes._subplots.AxesSubplot at 0x7d3a3f0448>"
      ]
     },
     "execution_count": 11,
     "metadata": {},
     "output_type": "execute_result"
    },
    {
     "data": {
      "image/png": "[encoded data removed]",
      "text/plain": [
       "<Figure size 432x288 with 1 Axes>"
      ]
     },
     "metadata": {
      "needs_background": "light"
     },
     "output_type": "display_data"
    }
   ],
   "source": [
    "df_nan1['5.pulse'].plot(kind='box')"
   ]
  },
  {
   "cell_type": "markdown",
   "metadata": {},
   "source": [
    "***найдем выбросы через межкваритльный размах (на примере роста)***"
   ]
  },
  {
   "cell_type": "code",
   "execution_count": 12,
   "metadata": {},
   "outputs": [
    {
     "name": "stdout",
     "output_type": "stream",
     "text": [
      "-12.0 нижняя граница\n",
      "148.0 нижняя граница\n"
     ]
    }
   ],
   "source": [
    "q1 = df_nan1['5.pulse'].quantile(0.25)\n",
    "q3 = df_nan1['5.pulse'].quantile(0.75)\n",
    "iqr = q3 - q1\n",
    "lower_bound = q1 - (1.5 * iqr)\n",
    "upper_bound = q3 + (1.5 * iqr)\n",
    "print(f'{lower_bound} нижняя граница')\n",
    "print(f'{upper_bound} нижняя граница')"
   ]
  },
  {
   "cell_type": "code",
   "execution_count": 13,
   "metadata": {},
   "outputs": [
    {
     "data": {
      "text/html": [
       "<div>\n",
       "<style scoped>\n",
       "    .dataframe tbody tr th:only-of-type {\n",
       "        vertical-align: middle;\n",
       "    }\n",
       "\n",
       "    .dataframe tbody tr th {\n",
       "        vertical-align: top;\n",
       "    }\n",
       "\n",
       "    .dataframe thead th {\n",
       "        text-align: right;\n",
       "    }\n",
       "</style>\n",
       "<table border=\"1\" class=\"dataframe\">\n",
       "  <thead>\n",
       "    <tr style=\"text-align: right;\">\n",
       "      <th></th>\n",
       "      <th>1.surgery</th>\n",
       "      <th>2.Age</th>\n",
       "      <th>4.rectal temperature</th>\n",
       "      <th>5.pulse</th>\n",
       "      <th>7.temperature of extremities</th>\n",
       "      <th>8.peripheral pulse</th>\n",
       "      <th>9.mucous membranes</th>\n",
       "      <th>10.capillary refill time</th>\n",
       "    </tr>\n",
       "  </thead>\n",
       "  <tbody>\n",
       "    <tr>\n",
       "      <th>3</th>\n",
       "      <td>1.0</td>\n",
       "      <td>9</td>\n",
       "      <td>39.1</td>\n",
       "      <td>164.0</td>\n",
       "      <td>4.0</td>\n",
       "      <td>1.0</td>\n",
       "      <td>6.0</td>\n",
       "      <td>2.0</td>\n",
       "    </tr>\n",
       "    <tr>\n",
       "      <th>41</th>\n",
       "      <td>2.0</td>\n",
       "      <td>9</td>\n",
       "      <td>39.0</td>\n",
       "      <td>150.0</td>\n",
       "      <td>NaN</td>\n",
       "      <td>NaN</td>\n",
       "      <td>NaN</td>\n",
       "      <td>NaN</td>\n",
       "    </tr>\n",
       "    <tr>\n",
       "      <th>55</th>\n",
       "      <td>1.0</td>\n",
       "      <td>9</td>\n",
       "      <td>38.6</td>\n",
       "      <td>160.0</td>\n",
       "      <td>3.0</td>\n",
       "      <td>NaN</td>\n",
       "      <td>5.0</td>\n",
       "      <td>1.0</td>\n",
       "    </tr>\n",
       "    <tr>\n",
       "      <th>255</th>\n",
       "      <td>1.0</td>\n",
       "      <td>9</td>\n",
       "      <td>38.8</td>\n",
       "      <td>184.0</td>\n",
       "      <td>1.0</td>\n",
       "      <td>NaN</td>\n",
       "      <td>1.0</td>\n",
       "      <td>1.0</td>\n",
       "    </tr>\n",
       "    <tr>\n",
       "      <th>275</th>\n",
       "      <td>1.0</td>\n",
       "      <td>9</td>\n",
       "      <td>38.8</td>\n",
       "      <td>150.0</td>\n",
       "      <td>1.0</td>\n",
       "      <td>3.0</td>\n",
       "      <td>6.0</td>\n",
       "      <td>2.0</td>\n",
       "    </tr>\n",
       "  </tbody>\n",
       "</table>\n",
       "</div>"
      ],
      "text/plain": [
       "     1.surgery  2.Age  4.rectal temperature  5.pulse  \\\n",
       "3          1.0      9                  39.1    164.0   \n",
       "41         2.0      9                  39.0    150.0   \n",
       "55         1.0      9                  38.6    160.0   \n",
       "255        1.0      9                  38.8    184.0   \n",
       "275        1.0      9                  38.8    150.0   \n",
       "\n",
       "     7.temperature of extremities  8.peripheral pulse  9.mucous membranes  \\\n",
       "3                             4.0                 1.0                 6.0   \n",
       "41                            NaN                 NaN                 NaN   \n",
       "55                            3.0                 NaN                 5.0   \n",
       "255                           1.0                 NaN                 1.0   \n",
       "275                           1.0                 3.0                 6.0   \n",
       "\n",
       "     10.capillary refill time  \n",
       "3                         2.0  \n",
       "41                        NaN  \n",
       "55                        1.0  \n",
       "255                       1.0  \n",
       "275                       2.0  "
      ]
     },
     "execution_count": 13,
     "metadata": {},
     "output_type": "execute_result"
    }
   ],
   "source": [
    "df_pulse = df_nan1[df_nan1['5.pulse']>upper_bound]\n",
    "df_pulse.head()"
   ]
  },
  {
   "cell_type": "markdown",
   "metadata": {},
   "source": [
    "Данные значения пульса выбиваются из общей картины. Нужно обратиться к специалисту для интерпритации, т.к. либо опечатка, либо показания пулься были получены при пограничном состоянии здоровья лошади (повышенная температура может свидетельствовать о заболевании), либо был испорчен прибор."
   ]
  },
  {
   "cell_type": "code",
   "execution_count": null,
   "metadata": {},
   "outputs": [],
   "source": []
  },
  {
   "cell_type": "markdown",
   "metadata": {},
   "source": [
    "**Задание 3. Работа с пропусками**"
   ]
  },
  {
   "cell_type": "markdown",
   "metadata": {},
   "source": [
    "Рассчитать количество пропусков для всех выбранных столбцов. Принять и обосновать решение о методе работы с пропусками по каждому столбцу, сформировать датафрейм, в котором пропуски будут отсутствовать."
   ]
  },
  {
   "cell_type": "code",
   "execution_count": 14,
   "metadata": {},
   "outputs": [
    {
     "data": {
      "text/html": [
       "<div>\n",
       "<style scoped>\n",
       "    .dataframe tbody tr th:only-of-type {\n",
       "        vertical-align: middle;\n",
       "    }\n",
       "\n",
       "    .dataframe tbody tr th {\n",
       "        vertical-align: top;\n",
       "    }\n",
       "\n",
       "    .dataframe thead th {\n",
       "        text-align: right;\n",
       "    }\n",
       "</style>\n",
       "<table border=\"1\" class=\"dataframe\">\n",
       "  <thead>\n",
       "    <tr style=\"text-align: right;\">\n",
       "      <th></th>\n",
       "      <th>1.surgery</th>\n",
       "      <th>2.Age</th>\n",
       "      <th>4.rectal temperature</th>\n",
       "      <th>5.pulse</th>\n",
       "      <th>7.temperature of extremities</th>\n",
       "      <th>8.peripheral pulse</th>\n",
       "      <th>9.mucous membranes</th>\n",
       "      <th>10.capillary refill time</th>\n",
       "    </tr>\n",
       "  </thead>\n",
       "  <tbody>\n",
       "    <tr>\n",
       "      <th>0</th>\n",
       "      <td>2.0</td>\n",
       "      <td>1</td>\n",
       "      <td>38.5</td>\n",
       "      <td>66.0</td>\n",
       "      <td>3.0</td>\n",
       "      <td>3.0</td>\n",
       "      <td>NaN</td>\n",
       "      <td>2.0</td>\n",
       "    </tr>\n",
       "    <tr>\n",
       "      <th>1</th>\n",
       "      <td>1.0</td>\n",
       "      <td>1</td>\n",
       "      <td>39.2</td>\n",
       "      <td>88.0</td>\n",
       "      <td>NaN</td>\n",
       "      <td>NaN</td>\n",
       "      <td>4.0</td>\n",
       "      <td>1.0</td>\n",
       "    </tr>\n",
       "    <tr>\n",
       "      <th>2</th>\n",
       "      <td>2.0</td>\n",
       "      <td>1</td>\n",
       "      <td>38.3</td>\n",
       "      <td>40.0</td>\n",
       "      <td>1.0</td>\n",
       "      <td>1.0</td>\n",
       "      <td>3.0</td>\n",
       "      <td>1.0</td>\n",
       "    </tr>\n",
       "    <tr>\n",
       "      <th>3</th>\n",
       "      <td>1.0</td>\n",
       "      <td>9</td>\n",
       "      <td>39.1</td>\n",
       "      <td>164.0</td>\n",
       "      <td>4.0</td>\n",
       "      <td>1.0</td>\n",
       "      <td>6.0</td>\n",
       "      <td>2.0</td>\n",
       "    </tr>\n",
       "    <tr>\n",
       "      <th>4</th>\n",
       "      <td>2.0</td>\n",
       "      <td>1</td>\n",
       "      <td>37.3</td>\n",
       "      <td>104.0</td>\n",
       "      <td>NaN</td>\n",
       "      <td>NaN</td>\n",
       "      <td>6.0</td>\n",
       "      <td>2.0</td>\n",
       "    </tr>\n",
       "  </tbody>\n",
       "</table>\n",
       "</div>"
      ],
      "text/plain": [
       "   1.surgery  2.Age  4.rectal temperature  5.pulse  \\\n",
       "0        2.0      1                  38.5     66.0   \n",
       "1        1.0      1                  39.2     88.0   \n",
       "2        2.0      1                  38.3     40.0   \n",
       "3        1.0      9                  39.1    164.0   \n",
       "4        2.0      1                  37.3    104.0   \n",
       "\n",
       "   7.temperature of extremities  8.peripheral pulse  9.mucous membranes  \\\n",
       "0                           3.0                 3.0                 NaN   \n",
       "1                           NaN                 NaN                 4.0   \n",
       "2                           1.0                 1.0                 3.0   \n",
       "3                           4.0                 1.0                 6.0   \n",
       "4                           NaN                 NaN                 6.0   \n",
       "\n",
       "   10.capillary refill time  \n",
       "0                       2.0  \n",
       "1                       1.0  \n",
       "2                       1.0  \n",
       "3                       2.0  \n",
       "4                       2.0  "
      ]
     },
     "execution_count": 14,
     "metadata": {},
     "output_type": "execute_result"
    }
   ],
   "source": [
    "df_replace = df_nan1\n",
    "df_replace.head()"
   ]
  },
  {
   "cell_type": "code",
   "execution_count": 15,
   "metadata": {},
   "outputs": [
    {
     "name": "stderr",
     "output_type": "stream",
     "text": [
      "C:\\Users\\Dmitry\\anaconda3\\lib\\site-packages\\pandas\\core\\generic.py:6245: SettingWithCopyWarning: \n",
      "A value is trying to be set on a copy of a slice from a DataFrame\n",
      "\n",
      "See the caveats in the documentation: https://pandas.pydata.org/pandas-docs/stable/user_guide/indexing.html#returning-a-view-versus-a-copy\n",
      "  self._update_inplace(new_data)\n"
     ]
    },
    {
     "data": {
      "text/plain": [
       "0"
      ]
     },
     "execution_count": 15,
     "metadata": {},
     "output_type": "execute_result"
    }
   ],
   "source": [
    "#Если мы не знаем, была ли операция, то ставим 2 - операции не было\n",
    "df_replace['1.surgery'].fillna(2, inplace=True)\n",
    "df_replace['1.surgery'].fillna(2).isna().sum()"
   ]
  },
  {
   "cell_type": "code",
   "execution_count": 16,
   "metadata": {},
   "outputs": [
    {
     "name": "stdout",
     "output_type": "stream",
     "text": [
      "38.16791666666669\n",
      "38.2\n",
      "38.0\n"
     ]
    }
   ],
   "source": [
    "print(df_replace['4.rectal temperature'].mean())\n",
    "print(df_replace['4.rectal temperature'].median())\n",
    "print(df_replace['4.rectal temperature'].mode()[0])"
   ]
  },
  {
   "cell_type": "code",
   "execution_count": 17,
   "metadata": {},
   "outputs": [],
   "source": [
    "# температуру заменим медианой, как самой устойчивой величиной. К тому медиана, мат.ожидание и мода очень близки.\n",
    "df_replace['4.rectal temperature'].fillna(df_replace['4.rectal temperature'].median(), inplace=True)"
   ]
  },
  {
   "cell_type": "code",
   "execution_count": 18,
   "metadata": {},
   "outputs": [
    {
     "name": "stdout",
     "output_type": "stream",
     "text": [
      "71.91304347826087\n",
      "64.0\n",
      "48.0\n"
     ]
    }
   ],
   "source": [
    "print(df_replace['5.pulse'].mean())\n",
    "print(df_replace['5.pulse'].median())\n",
    "print(df_replace['5.pulse'].mode()[0])"
   ]
  },
  {
   "cell_type": "code",
   "execution_count": 19,
   "metadata": {},
   "outputs": [],
   "source": [
    "# пульс заменим медианой, как самой устойчивой величиной\n",
    "df_replace['5.pulse'].fillna(df_replace['5.pulse'].median(), inplace=True)"
   ]
  },
  {
   "cell_type": "code",
   "execution_count": 20,
   "metadata": {},
   "outputs": [
    {
     "name": "stdout",
     "output_type": "stream",
     "text": [
      "2.348360655737705\n",
      "3.0\n",
      "3.0\n"
     ]
    }
   ],
   "source": [
    "print(df_replace['7.temperature of extremities'].mean())\n",
    "print(df_replace['7.temperature of extremities'].median())\n",
    "print(df_replace['7.temperature of extremities'].mode()[0])"
   ]
  },
  {
   "cell_type": "code",
   "execution_count": 21,
   "metadata": {},
   "outputs": [],
   "source": [
    "# Далее идут категории, каторые имеют строгие значения.Их заменим модой.\n",
    "# мат.ожидание и медиана могут быть дробным числом, а мода нет.\n",
    "df_replace['7.temperature of extremities'].fillna(df_replace['7.temperature of extremities'].mode()[0], inplace=True)"
   ]
  },
  {
   "cell_type": "code",
   "execution_count": 22,
   "metadata": {},
   "outputs": [],
   "source": [
    "df_replace['8.peripheral pulse'].fillna(df_replace['8.peripheral pulse'].mode()[0], inplace=True)"
   ]
  },
  {
   "cell_type": "code",
   "execution_count": 23,
   "metadata": {},
   "outputs": [],
   "source": [
    "df_replace['9.mucous membranes'].fillna(df_replace['9.mucous membranes'].mode()[0], inplace=True)"
   ]
  },
  {
   "cell_type": "code",
   "execution_count": 24,
   "metadata": {},
   "outputs": [],
   "source": [
    "df_replace['10.capillary refill time'].fillna(df_replace['10.capillary refill time'].mode()[0], inplace=True)"
   ]
  },
  {
   "cell_type": "code",
   "execution_count": 25,
   "metadata": {},
   "outputs": [
    {
     "name": "stdout",
     "output_type": "stream",
     "text": [
      "1.surgery - 0\n",
      "2.Age - 0\n",
      "4.rectal temperature - 0\n",
      "5.pulse - 0\n",
      "7.temperature of extremities - 0\n",
      "8.peripheral pulse - 0\n",
      "9.mucous membranes - 0\n",
      "10.capillary refill time - 0\n"
     ]
    }
   ],
   "source": [
    "for col in df_replace.columns:\n",
    "    pct_missing1 = df_replace[col].isnull().sum()\n",
    "    print(f'{col} - {pct_missing1}')"
   ]
  },
  {
   "cell_type": "code",
   "execution_count": 26,
   "metadata": {},
   "outputs": [
    {
     "data": {
      "text/html": [
       "<div>\n",
       "<style scoped>\n",
       "    .dataframe tbody tr th:only-of-type {\n",
       "        vertical-align: middle;\n",
       "    }\n",
       "\n",
       "    .dataframe tbody tr th {\n",
       "        vertical-align: top;\n",
       "    }\n",
       "\n",
       "    .dataframe thead th {\n",
       "        text-align: right;\n",
       "    }\n",
       "</style>\n",
       "<table border=\"1\" class=\"dataframe\">\n",
       "  <thead>\n",
       "    <tr style=\"text-align: right;\">\n",
       "      <th></th>\n",
       "      <th>1.surgery</th>\n",
       "      <th>2.Age</th>\n",
       "      <th>4.rectal temperature</th>\n",
       "      <th>5.pulse</th>\n",
       "      <th>7.temperature of extremities</th>\n",
       "      <th>8.peripheral pulse</th>\n",
       "      <th>9.mucous membranes</th>\n",
       "      <th>10.capillary refill time</th>\n",
       "    </tr>\n",
       "  </thead>\n",
       "  <tbody>\n",
       "    <tr>\n",
       "      <th>0</th>\n",
       "      <td>2.0</td>\n",
       "      <td>1</td>\n",
       "      <td>38.5</td>\n",
       "      <td>66.0</td>\n",
       "      <td>3.0</td>\n",
       "      <td>3.0</td>\n",
       "      <td>1.0</td>\n",
       "      <td>2.0</td>\n",
       "    </tr>\n",
       "    <tr>\n",
       "      <th>1</th>\n",
       "      <td>1.0</td>\n",
       "      <td>1</td>\n",
       "      <td>39.2</td>\n",
       "      <td>88.0</td>\n",
       "      <td>3.0</td>\n",
       "      <td>1.0</td>\n",
       "      <td>4.0</td>\n",
       "      <td>1.0</td>\n",
       "    </tr>\n",
       "    <tr>\n",
       "      <th>2</th>\n",
       "      <td>2.0</td>\n",
       "      <td>1</td>\n",
       "      <td>38.3</td>\n",
       "      <td>40.0</td>\n",
       "      <td>1.0</td>\n",
       "      <td>1.0</td>\n",
       "      <td>3.0</td>\n",
       "      <td>1.0</td>\n",
       "    </tr>\n",
       "    <tr>\n",
       "      <th>3</th>\n",
       "      <td>1.0</td>\n",
       "      <td>9</td>\n",
       "      <td>39.1</td>\n",
       "      <td>164.0</td>\n",
       "      <td>4.0</td>\n",
       "      <td>1.0</td>\n",
       "      <td>6.0</td>\n",
       "      <td>2.0</td>\n",
       "    </tr>\n",
       "    <tr>\n",
       "      <th>4</th>\n",
       "      <td>2.0</td>\n",
       "      <td>1</td>\n",
       "      <td>37.3</td>\n",
       "      <td>104.0</td>\n",
       "      <td>3.0</td>\n",
       "      <td>1.0</td>\n",
       "      <td>6.0</td>\n",
       "      <td>2.0</td>\n",
       "    </tr>\n",
       "  </tbody>\n",
       "</table>\n",
       "</div>"
      ],
      "text/plain": [
       "   1.surgery  2.Age  4.rectal temperature  5.pulse  \\\n",
       "0        2.0      1                  38.5     66.0   \n",
       "1        1.0      1                  39.2     88.0   \n",
       "2        2.0      1                  38.3     40.0   \n",
       "3        1.0      9                  39.1    164.0   \n",
       "4        2.0      1                  37.3    104.0   \n",
       "\n",
       "   7.temperature of extremities  8.peripheral pulse  9.mucous membranes  \\\n",
       "0                           3.0                 3.0                 1.0   \n",
       "1                           3.0                 1.0                 4.0   \n",
       "2                           1.0                 1.0                 3.0   \n",
       "3                           4.0                 1.0                 6.0   \n",
       "4                           3.0                 1.0                 6.0   \n",
       "\n",
       "   10.capillary refill time  \n",
       "0                       2.0  \n",
       "1                       1.0  \n",
       "2                       1.0  \n",
       "3                       2.0  \n",
       "4                       2.0  "
      ]
     },
     "execution_count": 26,
     "metadata": {},
     "output_type": "execute_result"
    }
   ],
   "source": [
    "df_replace.head()"
   ]
  },
  {
   "cell_type": "code",
   "execution_count": null,
   "metadata": {},
   "outputs": [],
   "source": []
  },
  {
   "cell_type": "markdown",
   "metadata": {},
   "source": [
    "**Дополнительная часть (необязательная)**"
   ]
  },
  {
   "cell_type": "markdown",
   "metadata": {},
   "source": [
    "Выполнить задания 1-3 для всего набора данных."
   ]
  },
  {
   "cell_type": "code",
   "execution_count": null,
   "metadata": {},
   "outputs": [],
   "source": []
  },
  {
   "cell_type": "code",
   "execution_count": null,
   "metadata": {},
   "outputs": [],
   "source": []
  }
 ],
 "metadata": {
  "kernelspec": {
   "display_name": "Python 3",
   "language": "python",
   "name": "python3"
  },
  "language_info": {
   "codemirror_mode": {
    "name": "ipython",
    "version": 3
   },
   "file_extension": ".py",
   "mimetype": "text/x-python",
   "name": "python",
   "nbconvert_exporter": "python",
   "pygments_lexer": "ipython3",
   "version": "3.7.6"
  }
 },
 "nbformat": 4,
 "nbformat_minor": 4
}
